{
 "cells": [
  {
   "cell_type": "code",
   "execution_count": 5,
   "id": "ae0bb320",
   "metadata": {},
   "outputs": [
    {
     "name": "stdout",
     "output_type": "stream",
     "text": [
      "Requirement already satisfied: requests in c:\\users\\rentals\\anaconda3\\lib\\site-packages (2.28.1)\n",
      "Requirement already satisfied: urllib3<1.27,>=1.21.1 in c:\\users\\rentals\\anaconda3\\lib\\site-packages (from requests) (1.26.14)\n",
      "Requirement already satisfied: charset-normalizer<3,>=2 in c:\\users\\rentals\\anaconda3\\lib\\site-packages (from requests) (2.0.4)\n",
      "Requirement already satisfied: idna<4,>=2.5 in c:\\users\\rentals\\anaconda3\\lib\\site-packages (from requests) (3.4)\n",
      "Requirement already satisfied: certifi>=2017.4.17 in c:\\users\\rentals\\anaconda3\\lib\\site-packages (from requests) (2022.12.7)\n",
      "Name: mewtwo\n",
      "Height: 20\n",
      "Weight: 1220\n"
     ]
    }
   ],
   "source": [
    "!pip install requests\n",
    "import requests\n",
    "\n",
    "class Pokemon:\n",
    "    def __init__(self, name, height, weight):\n",
    "        self.name = name\n",
    "        self.height = height\n",
    "        self.weight = weight\n",
    "\n",
    "class PokeAPI:\n",
    "    BASE_URL = 'https://pokeapi.co/api/v2'\n",
    "\n",
    "   \n",
    "    def get_pokemon(self, pokemon_name):\n",
    "        url = f'{PokeAPI.BASE_URL}/pokemon/{pokemon_name}'\n",
    "        response = requests.get(url)\n",
    "\n",
    "        if response.status_code == 200:\n",
    "            data = response.json()\n",
    "            name = data['name']\n",
    "            height = data['height']\n",
    "            weight = data['weight']\n",
    "            return Pokemon(name, height, weight)\n",
    "        else:\n",
    "            return None\n",
    "pokeapi = PokeAPI()\n",
    "pokemon = pokeapi.get_pokemon('mewtwo')\n",
    "\n",
    "if pokemon:\n",
    "    print(f'Name: {pokemon.name}')\n",
    "    print(f'Height: {pokemon.height}')\n",
    "    print(f'Weight: {pokemon.weight}')\n",
    "else:\n",
    "    print('Pokemon not found.')\n"
   ]
  },
  {
   "cell_type": "code",
   "execution_count": null,
   "id": "72ee4dd8",
   "metadata": {},
   "outputs": [],
   "source": []
  }
 ],
 "metadata": {
  "kernelspec": {
   "display_name": "Python 3 (ipykernel)",
   "language": "python",
   "name": "python3"
  },
  "language_info": {
   "codemirror_mode": {
    "name": "ipython",
    "version": 3
   },
   "file_extension": ".py",
   "mimetype": "text/x-python",
   "name": "python",
   "nbconvert_exporter": "python",
   "pygments_lexer": "ipython3",
   "version": "3.10.9"
  }
 },
 "nbformat": 4,
 "nbformat_minor": 5
}
